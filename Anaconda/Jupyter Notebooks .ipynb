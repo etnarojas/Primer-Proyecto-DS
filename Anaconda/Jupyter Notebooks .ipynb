{
 "cells": [
  {
   "attachments": {},
   "cell_type": "markdown",
   "metadata": {},
   "source": [
    "\n",
    "\n",
    "\n",
    "## Jupyter notebooks \n",
    "### Keyboard shortcuts\n",
    "**@etnarojas**\n",
    "\n",
    "\n",
    ">> - **< Shift-Tab >** Obtener el 'Docstring'.\n",
    ">> - **< Ctrl-Enter >** Ejecuta la celda actual.\n",
    ">> - **< Shift-Enter >** Ejecuta la celda actual y si no hay siguiente crea una nueva.\n",
    ">> - **< Alt-Enter >** Ejecuta la celda actual y agrega una siguiente celda.\n",
    ">> - **< Esc >** Salir a modo comando donde puedes moverte entre las celdas con flechas.\n",
    ">>> Mientras estás en modo comando:\n",
    "    - **A** insertar una celda arriba de la actual, \n",
    "    - **B** insertar una celda abajo de la actual.\n",
    "    - **M** cambiar la celda actual de Markdown.\n",
    "    - **Y** cambiar la celda a código.\n",
    "    - **D + D (press the key twice)** to delete the current cell\n",
    ">>  - **< Enter >** salir de modeo comando y entrar a modo edición de la celda actual.\n",
    ">>  - **< Shift J o Shift down >** Seleccionar Multiples Celdas hacia abajo.\n",
    ">>  - **< Shift K o Shift up >** Seleccionar Multiples Celdas hacia arriba, puedes ejecutar comandos delete / copy / cut / paste / run\n",
    ">>  - **< Shift M o Shift up >** Unir celdas seleccionadas.\n",
    "\n",
    "\n",
    "\n"
   ]
  }
 ],
 "metadata": {
  "kernelspec": {
   "display_name": "Python 3",
   "language": "python",
   "name": "python3"
  },
  "language_info": {
   "codemirror_mode": {
    "name": "ipython",
    "version": 3
   },
   "file_extension": ".py",
   "mimetype": "text/x-python",
   "name": "python",
   "nbconvert_exporter": "python",
   "pygments_lexer": "ipython3",
   "version": "3.6.6"
  }
 },
 "nbformat": 4,
 "nbformat_minor": 2
}
