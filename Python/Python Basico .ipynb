{
 "cells": [
  {
   "cell_type": "markdown",
   "metadata": {},
   "source": [
    "\n",
    "![python-logo-master-v3-TM.png](https://www.python.org/static/community_logos/python-logo-master-v3-TM.png)\n",
    "\n",
    "\n",
    "## Básicos\n",
    "**@etnarojas**\n",
    "\n",
    "- https://www.python.org/\n"
   ]
  },
  {
   "cell_type": "code",
   "execution_count": 1,
   "metadata": {
    "collapsed": true
   },
   "outputs": [
    {
     "name": "stdout",
     "output_type": "stream",
     "text": [
      "The Zen of Python, by Tim Peters\n",
      "\n",
      "Beautiful is better than ugly.\n",
      "Explicit is better than implicit.\n",
      "Simple is better than complex.\n",
      "Complex is better than complicated.\n",
      "Flat is better than nested.\n",
      "Sparse is better than dense.\n",
      "Readability counts.\n",
      "Special cases aren't special enough to break the rules.\n",
      "Although practicality beats purity.\n",
      "Errors should never pass silently.\n",
      "Unless explicitly silenced.\n",
      "In the face of ambiguity, refuse the temptation to guess.\n",
      "There should be one-- and preferably only one --obvious way to do it.\n",
      "Although that way may not be obvious at first unless you're Dutch.\n",
      "Now is better than never.\n",
      "Although never is often better than *right* now.\n",
      "If the implementation is hard to explain, it's a bad idea.\n",
      "If the implementation is easy to explain, it may be a good idea.\n",
      "Namespaces are one honking great idea -- let's do more of those!\n"
     ]
    }
   ],
   "source": [
    "# Principios de Python\n",
    "import this\n"
   ]
  },
  {
   "cell_type": "code",
   "execution_count": 2,
   "metadata": {},
   "outputs": [
    {
     "name": "stdout",
     "output_type": "stream",
     "text": [
      "e\n",
      "20\n",
      "ejemplo de un string\n"
     ]
    }
   ],
   "source": [
    "# Python Curso Básico\n",
    "\n",
    "\n",
    "# Asignaciones\n",
    "# ==========\n",
    "\n",
    "# Strings\n",
    "data = 'ejemplo de un string'\n",
    "print(data[0])\n",
    "print(len(data))\n",
    "print(data)\n",
    "\n"
   ]
  },
  {
   "cell_type": "code",
   "execution_count": 3,
   "metadata": {},
   "outputs": [
    {
     "name": "stdout",
     "output_type": "stream",
     "text": [
      "123.1\n",
      "10\n"
     ]
    }
   ],
   "source": [
    "# Números\n",
    "value = 123.1\n",
    "print(value)\n",
    "value = 10\n",
    "print(value)\n",
    "\n"
   ]
  },
  {
   "cell_type": "code",
   "execution_count": 4,
   "metadata": {},
   "outputs": [
    {
     "name": "stdout",
     "output_type": "stream",
     "text": [
      "True False\n"
     ]
    }
   ],
   "source": [
    "# Boolean\n",
    "a = True\n",
    "b = False\n",
    "print(a, b)\n",
    "\n"
   ]
  },
  {
   "cell_type": "code",
   "execution_count": 5,
   "metadata": {},
   "outputs": [
    {
     "name": "stdout",
     "output_type": "stream",
     "text": [
      "1 2 3\n",
      "None\n"
     ]
    }
   ],
   "source": [
    "# Asignación Múltiple\n",
    "a, b, c = 1, 2, 3\n",
    "print(a, b, c)\n",
    "\n",
    "# No value\n",
    "a = None\n",
    "print(a)\n",
    "\n",
    "\n",
    "\n"
   ]
  },
  {
   "cell_type": "code",
   "execution_count": 6,
   "metadata": {},
   "outputs": [
    {
     "name": "stdout",
     "output_type": "stream",
     "text": [
      "Es mayor igual a 99\n"
     ]
    }
   ],
   "source": [
    "\n",
    "# Control de Flujo\n",
    "# ============\n",
    "\n",
    "# If-Then-Else\n",
    "\n",
    "value = 99\n",
    "if value >= 99:\n",
    "\tprint('Es mayor igual a 99')\n",
    "elif value > 200:\n",
    "\tprint('Es mayor que 200')\n",
    "else:\n",
    "\tprint('Condición de Else')\n",
    "\n"
   ]
  },
  {
   "cell_type": "code",
   "execution_count": 7,
   "metadata": {},
   "outputs": [
    {
     "name": "stdout",
     "output_type": "stream",
     "text": [
      "0\n",
      "1\n",
      "2\n",
      "3\n",
      "4\n",
      "5\n",
      "6\n",
      "7\n",
      "8\n",
      "9\n",
      "0123456789"
     ]
    }
   ],
   "source": [
    "# For-Loop\n",
    "for i in range(10):\n",
    "\tprint(i)\n",
    "\n",
    "# While-Loop\n",
    "i = 0\n",
    "while i < 10:\n",
    "\tprint(i, end='')\n",
    "\ti += 1\n",
    "\n",
    "\n"
   ]
  },
  {
   "cell_type": "code",
   "execution_count": 9,
   "metadata": {},
   "outputs": [
    {
     "name": "stdout",
     "output_type": "stream",
     "text": [
      "(1, 2, 3)\n",
      "El elemento 0 de la lista 1\n",
      "La longitud de mi lista 7\n",
      "1\n",
      "2\n",
      "3\n",
      "4\n",
      "5\n",
      "6\n",
      "4\n",
      "[1, 2, 3, 4, 5, 6, 4]\n"
     ]
    }
   ],
   "source": [
    "# Estructuras de Datos\n",
    "# ===============\n",
    "\n",
    "# Tuplas (no cambian)\n",
    "a = (1, 2, 3)\n",
    "print(a)\n",
    "\n",
    "\n",
    "# Listas\n",
    "mylist = [1, 2, 3,4,5,6]\n",
    "print('El elemento 0 de la lista', mylist[0])\n",
    "mylist.append(4)\n",
    "print('La longitud de mi lista', len(mylist))\n",
    "for value in mylist:\n",
    "\tprint(value)\n",
    "print(mylist)\n",
    "\n",
    "\n"
   ]
  },
  {
   "cell_type": "code",
   "execution_count": 10,
   "metadata": {},
   "outputs": [
    {
     "name": "stdout",
     "output_type": "stream",
     "text": [
      "El valor asociado a la llave a:  1\n",
      "El valor asociado a la llave a modificado :  11\n",
      "Las llaves : dict_keys(['a', 'b', 'c', 'd'])\n",
      "Los valores:  dict_values([11, 2, 3, 4])\n",
      "11\n",
      "2\n",
      "3\n",
      "4\n"
     ]
    }
   ],
   "source": [
    "\n",
    "# Diccionarios\n",
    "\n",
    "mydict = {'a': 1, 'b': 2, 'c': 3, 'd': 4}\n",
    "print('El valor asociado a la llave a: ', mydict['a'])\n",
    "mydict['a'] = 11\n",
    "print('El valor asociado a la llave a modificado : ' , mydict['a'])\n",
    "print('Las llaves :', mydict.keys())\n",
    "print('Los valores: ', mydict.values())\n",
    "for key in mydict.keys():\n",
    "\tprint(mydict[key])\n",
    "\n",
    "\n",
    "\n"
   ]
  },
  {
   "cell_type": "code",
   "execution_count": 4,
   "metadata": {},
   "outputs": [
    {
     "data": {
      "text/plain": [
       "4"
      ]
     },
     "execution_count": 4,
     "metadata": {},
     "output_type": "execute_result"
    }
   ],
   "source": [
    "# Funciones\n",
    "# ===========\n",
    "\n",
    "# Función suma\n",
    "def mysum(x, y):\n",
    "\treturn x + y\n",
    "\n",
    "# Usar función suma\n",
    "mysum(1, 3)"
   ]
  }
 ],
 "metadata": {
  "kernelspec": {
   "display_name": "Python 3",
   "language": "python",
   "name": "python3"
  },
  "language_info": {
   "codemirror_mode": {
    "name": "ipython",
    "version": 3
   },
   "file_extension": ".py",
   "mimetype": "text/x-python",
   "name": "python",
   "nbconvert_exporter": "python",
   "pygments_lexer": "ipython3",
   "version": "3.6.6"
  }
 },
 "nbformat": 4,
 "nbformat_minor": 2
}
